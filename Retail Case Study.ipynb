{
 "cells": [
  {
   "cell_type": "code",
   "execution_count": 31,
   "id": "0754262e-d88d-406f-97ef-cb6ff1f3deb9",
   "metadata": {},
   "outputs": [],
   "source": [
    "import pandas as pd\n",
    "import matplotlib.pyplot as plt\n",
    "import datetime as dt\n",
    "import seaborn as sns\n",
    "import warnings\n",
    "warnings.filterwarnings(\"ignore\")\n",
    "import os "
   ]
  },
  {
   "cell_type": "code",
   "execution_count": 3,
   "id": "e09805c7-d172-4f57-a2b3-dbe49d6536b5",
   "metadata": {},
   "outputs": [],
   "source": [
    "os.chdir('C:\\\\Users\\\\Dell\\\\Downloads\\\\Python Foundation Case Study 1 - Retail Case Study\\\\Case Study 1 - Retail Case Study')\n",
    "transactions = pd.read_csv('Transactions.csv')\n",
    "customers = pd.read_csv('Customer.csv')\n",
    "product_cat = pd.read_csv('prod_cat_info.csv')"
   ]
  },
  {
   "cell_type": "raw",
   "id": "82435b2a-3458-4cdf-b941-3ab716ecee99",
   "metadata": {},
   "source": [
    "Q1) Merge the datasets Customers, Product Hierarchy and Transactions as Customer_Final. Ensure to keep all customers who have done transactions with us and select the join type accordingly."
   ]
  },
  {
   "cell_type": "code",
   "execution_count": 4,
   "id": "e5c8ac0f-e8da-4c82-96de-830cc0688677",
   "metadata": {},
   "outputs": [
    {
     "data": {
      "text/html": [
       "<div>\n",
       "<style scoped>\n",
       "    .dataframe tbody tr th:only-of-type {\n",
       "        vertical-align: middle;\n",
       "    }\n",
       "\n",
       "    .dataframe tbody tr th {\n",
       "        vertical-align: top;\n",
       "    }\n",
       "\n",
       "    .dataframe thead th {\n",
       "        text-align: right;\n",
       "    }\n",
       "</style>\n",
       "<table border=\"1\" class=\"dataframe\">\n",
       "  <thead>\n",
       "    <tr style=\"text-align: right;\">\n",
       "      <th></th>\n",
       "      <th>transaction_id</th>\n",
       "      <th>cust_id</th>\n",
       "      <th>tran_date</th>\n",
       "      <th>prod_subcat_code</th>\n",
       "      <th>prod_cat_code</th>\n",
       "      <th>Qty</th>\n",
       "      <th>Rate</th>\n",
       "      <th>Tax</th>\n",
       "      <th>total_amt</th>\n",
       "      <th>Store_type</th>\n",
       "      <th>DOB</th>\n",
       "      <th>Gender</th>\n",
       "      <th>city_code</th>\n",
       "      <th>prod_cat</th>\n",
       "      <th>prod_subcat</th>\n",
       "    </tr>\n",
       "  </thead>\n",
       "  <tbody>\n",
       "    <tr>\n",
       "      <th>0</th>\n",
       "      <td>80712190438</td>\n",
       "      <td>270351</td>\n",
       "      <td>28-02-2014</td>\n",
       "      <td>1</td>\n",
       "      <td>1</td>\n",
       "      <td>-5</td>\n",
       "      <td>-772</td>\n",
       "      <td>405.300</td>\n",
       "      <td>-4265.300</td>\n",
       "      <td>e-Shop</td>\n",
       "      <td>26-09-1981</td>\n",
       "      <td>M</td>\n",
       "      <td>5.0</td>\n",
       "      <td>Clothing</td>\n",
       "      <td>Women</td>\n",
       "    </tr>\n",
       "    <tr>\n",
       "      <th>1</th>\n",
       "      <td>29258453508</td>\n",
       "      <td>270384</td>\n",
       "      <td>27-02-2014</td>\n",
       "      <td>5</td>\n",
       "      <td>3</td>\n",
       "      <td>-5</td>\n",
       "      <td>-1497</td>\n",
       "      <td>785.925</td>\n",
       "      <td>-8270.925</td>\n",
       "      <td>e-Shop</td>\n",
       "      <td>11-05-1973</td>\n",
       "      <td>F</td>\n",
       "      <td>8.0</td>\n",
       "      <td>Electronics</td>\n",
       "      <td>Computers</td>\n",
       "    </tr>\n",
       "    <tr>\n",
       "      <th>2</th>\n",
       "      <td>51750724947</td>\n",
       "      <td>273420</td>\n",
       "      <td>24-02-2014</td>\n",
       "      <td>6</td>\n",
       "      <td>5</td>\n",
       "      <td>-2</td>\n",
       "      <td>-791</td>\n",
       "      <td>166.110</td>\n",
       "      <td>-1748.110</td>\n",
       "      <td>TeleShop</td>\n",
       "      <td>27-07-1992</td>\n",
       "      <td>M</td>\n",
       "      <td>8.0</td>\n",
       "      <td>Books</td>\n",
       "      <td>DIY</td>\n",
       "    </tr>\n",
       "    <tr>\n",
       "      <th>3</th>\n",
       "      <td>93274880719</td>\n",
       "      <td>271509</td>\n",
       "      <td>24-02-2014</td>\n",
       "      <td>11</td>\n",
       "      <td>6</td>\n",
       "      <td>-3</td>\n",
       "      <td>-1363</td>\n",
       "      <td>429.345</td>\n",
       "      <td>-4518.345</td>\n",
       "      <td>e-Shop</td>\n",
       "      <td>08-06-1981</td>\n",
       "      <td>M</td>\n",
       "      <td>3.0</td>\n",
       "      <td>Home and kitchen</td>\n",
       "      <td>Bath</td>\n",
       "    </tr>\n",
       "    <tr>\n",
       "      <th>4</th>\n",
       "      <td>51750724947</td>\n",
       "      <td>273420</td>\n",
       "      <td>23-02-2014</td>\n",
       "      <td>6</td>\n",
       "      <td>5</td>\n",
       "      <td>-2</td>\n",
       "      <td>-791</td>\n",
       "      <td>166.110</td>\n",
       "      <td>-1748.110</td>\n",
       "      <td>TeleShop</td>\n",
       "      <td>27-07-1992</td>\n",
       "      <td>M</td>\n",
       "      <td>8.0</td>\n",
       "      <td>Books</td>\n",
       "      <td>DIY</td>\n",
       "    </tr>\n",
       "  </tbody>\n",
       "</table>\n",
       "</div>"
      ],
      "text/plain": [
       "   transaction_id  cust_id   tran_date  prod_subcat_code  prod_cat_code  Qty  \\\n",
       "0     80712190438   270351  28-02-2014                 1              1   -5   \n",
       "1     29258453508   270384  27-02-2014                 5              3   -5   \n",
       "2     51750724947   273420  24-02-2014                 6              5   -2   \n",
       "3     93274880719   271509  24-02-2014                11              6   -3   \n",
       "4     51750724947   273420  23-02-2014                 6              5   -2   \n",
       "\n",
       "   Rate      Tax  total_amt Store_type         DOB Gender  city_code  \\\n",
       "0  -772  405.300  -4265.300     e-Shop  26-09-1981      M        5.0   \n",
       "1 -1497  785.925  -8270.925     e-Shop  11-05-1973      F        8.0   \n",
       "2  -791  166.110  -1748.110   TeleShop  27-07-1992      M        8.0   \n",
       "3 -1363  429.345  -4518.345     e-Shop  08-06-1981      M        3.0   \n",
       "4  -791  166.110  -1748.110   TeleShop  27-07-1992      M        8.0   \n",
       "\n",
       "           prod_cat prod_subcat  \n",
       "0          Clothing       Women  \n",
       "1       Electronics   Computers  \n",
       "2             Books         DIY  \n",
       "3  Home and kitchen        Bath  \n",
       "4             Books         DIY  "
      ]
     },
     "execution_count": 4,
     "metadata": {},
     "output_type": "execute_result"
    }
   ],
   "source": [
    "customers.rename(columns={'customer_Id':'cust_id'},inplace=True)\n",
    "product_cat.rename(columns={'prod_sub_cat_code':'prod_subcat_code'},inplace=True)\n",
    "customer_transactions = pd.merge(left=transactions, right=customers, on=\"cust_id\", how=\"inner\")\n",
    "customer_final = pd.merge(left=customer_transactions, right=product_cat,on=[\"prod_cat_code\", \"prod_subcat_code\"], how=\"left\")\n",
    "customer_final.head()\n"
   ]
  },
  {
   "cell_type": "raw",
   "id": "3018ca0d-82cd-49d1-b22d-3c91f6d5fbc5",
   "metadata": {},
   "source": [
    "Q2) Prepare a summary report for the merged data set:\n",
    " a. Get the column names and their corresponding data types\n",
    " b. Top/Bottom 10 observations\n",
    " c. “Five-number summary” for continuous variables (min, Q1, median, Q3 and max)\n",
    " d. Frequency tables for all the categorical variables"
   ]
  },
  {
   "cell_type": "markdown",
   "id": "b2051ff0-d649-4953-8d44-177691a348b6",
   "metadata": {},
   "source": [
    "#### a. Column names and their corresponding data types"
   ]
  },
  {
   "cell_type": "code",
   "execution_count": 20,
   "id": "c4bc9752-0e7c-40d4-b794-4fca37b2e4e4",
   "metadata": {},
   "outputs": [
    {
     "name": "stdout",
     "output_type": "stream",
     "text": [
      "Column Names and Data Types:\n"
     ]
    },
    {
     "data": {
      "text/plain": [
       "transaction_id        int64\n",
       "cust_id               int64\n",
       "tran_date            object\n",
       "prod_subcat_code      int64\n",
       "prod_cat_code         int64\n",
       "Qty                   int64\n",
       "Rate                  int64\n",
       "Tax                 float64\n",
       "total_amt           float64\n",
       "Store_type           object\n",
       "DOB                  object\n",
       "Gender               object\n",
       "city_code           float64\n",
       "prod_cat             object\n",
       "prod_subcat          object\n",
       "dtype: object"
      ]
     },
     "execution_count": 20,
     "metadata": {},
     "output_type": "execute_result"
    }
   ],
   "source": [
    "print(\"Column Names and Data Types:\")\n",
    "customer_final.dtypes"
   ]
  },
  {
   "cell_type": "markdown",
   "id": "377313fb-eb44-4384-b8bb-9ecbaddfeb6d",
   "metadata": {},
   "source": [
    "#### b. Top 10 observations"
   ]
  },
  {
   "cell_type": "code",
   "execution_count": 26,
   "id": "57016854-e644-4f92-b14b-fa00234738f2",
   "metadata": {},
   "outputs": [
    {
     "name": "stdout",
     "output_type": "stream",
     "text": [
      "Top 10 Observations:\n"
     ]
    },
    {
     "data": {
      "text/html": [
       "<div>\n",
       "<style scoped>\n",
       "    .dataframe tbody tr th:only-of-type {\n",
       "        vertical-align: middle;\n",
       "    }\n",
       "\n",
       "    .dataframe tbody tr th {\n",
       "        vertical-align: top;\n",
       "    }\n",
       "\n",
       "    .dataframe thead th {\n",
       "        text-align: right;\n",
       "    }\n",
       "</style>\n",
       "<table border=\"1\" class=\"dataframe\">\n",
       "  <thead>\n",
       "    <tr style=\"text-align: right;\">\n",
       "      <th></th>\n",
       "      <th>transaction_id</th>\n",
       "      <th>cust_id</th>\n",
       "      <th>tran_date</th>\n",
       "      <th>prod_subcat_code</th>\n",
       "      <th>prod_cat_code</th>\n",
       "      <th>Qty</th>\n",
       "      <th>Rate</th>\n",
       "      <th>Tax</th>\n",
       "      <th>total_amt</th>\n",
       "      <th>Store_type</th>\n",
       "      <th>DOB</th>\n",
       "      <th>Gender</th>\n",
       "      <th>city_code</th>\n",
       "      <th>prod_cat</th>\n",
       "      <th>prod_subcat</th>\n",
       "    </tr>\n",
       "  </thead>\n",
       "  <tbody>\n",
       "    <tr>\n",
       "      <th>0</th>\n",
       "      <td>80712190438</td>\n",
       "      <td>270351</td>\n",
       "      <td>28-02-2014</td>\n",
       "      <td>1</td>\n",
       "      <td>1</td>\n",
       "      <td>-5</td>\n",
       "      <td>-772</td>\n",
       "      <td>405.300</td>\n",
       "      <td>-4265.300</td>\n",
       "      <td>e-Shop</td>\n",
       "      <td>26-09-1981</td>\n",
       "      <td>M</td>\n",
       "      <td>5.0</td>\n",
       "      <td>Clothing</td>\n",
       "      <td>Women</td>\n",
       "    </tr>\n",
       "    <tr>\n",
       "      <th>1</th>\n",
       "      <td>29258453508</td>\n",
       "      <td>270384</td>\n",
       "      <td>27-02-2014</td>\n",
       "      <td>5</td>\n",
       "      <td>3</td>\n",
       "      <td>-5</td>\n",
       "      <td>-1497</td>\n",
       "      <td>785.925</td>\n",
       "      <td>-8270.925</td>\n",
       "      <td>e-Shop</td>\n",
       "      <td>11-05-1973</td>\n",
       "      <td>F</td>\n",
       "      <td>8.0</td>\n",
       "      <td>Electronics</td>\n",
       "      <td>Computers</td>\n",
       "    </tr>\n",
       "    <tr>\n",
       "      <th>2</th>\n",
       "      <td>51750724947</td>\n",
       "      <td>273420</td>\n",
       "      <td>24-02-2014</td>\n",
       "      <td>6</td>\n",
       "      <td>5</td>\n",
       "      <td>-2</td>\n",
       "      <td>-791</td>\n",
       "      <td>166.110</td>\n",
       "      <td>-1748.110</td>\n",
       "      <td>TeleShop</td>\n",
       "      <td>27-07-1992</td>\n",
       "      <td>M</td>\n",
       "      <td>8.0</td>\n",
       "      <td>Books</td>\n",
       "      <td>DIY</td>\n",
       "    </tr>\n",
       "    <tr>\n",
       "      <th>3</th>\n",
       "      <td>93274880719</td>\n",
       "      <td>271509</td>\n",
       "      <td>24-02-2014</td>\n",
       "      <td>11</td>\n",
       "      <td>6</td>\n",
       "      <td>-3</td>\n",
       "      <td>-1363</td>\n",
       "      <td>429.345</td>\n",
       "      <td>-4518.345</td>\n",
       "      <td>e-Shop</td>\n",
       "      <td>08-06-1981</td>\n",
       "      <td>M</td>\n",
       "      <td>3.0</td>\n",
       "      <td>Home and kitchen</td>\n",
       "      <td>Bath</td>\n",
       "    </tr>\n",
       "    <tr>\n",
       "      <th>4</th>\n",
       "      <td>51750724947</td>\n",
       "      <td>273420</td>\n",
       "      <td>23-02-2014</td>\n",
       "      <td>6</td>\n",
       "      <td>5</td>\n",
       "      <td>-2</td>\n",
       "      <td>-791</td>\n",
       "      <td>166.110</td>\n",
       "      <td>-1748.110</td>\n",
       "      <td>TeleShop</td>\n",
       "      <td>27-07-1992</td>\n",
       "      <td>M</td>\n",
       "      <td>8.0</td>\n",
       "      <td>Books</td>\n",
       "      <td>DIY</td>\n",
       "    </tr>\n",
       "    <tr>\n",
       "      <th>5</th>\n",
       "      <td>97439039119</td>\n",
       "      <td>272357</td>\n",
       "      <td>23-02-2014</td>\n",
       "      <td>8</td>\n",
       "      <td>3</td>\n",
       "      <td>-2</td>\n",
       "      <td>-824</td>\n",
       "      <td>173.040</td>\n",
       "      <td>-1821.040</td>\n",
       "      <td>TeleShop</td>\n",
       "      <td>09-10-1982</td>\n",
       "      <td>F</td>\n",
       "      <td>6.0</td>\n",
       "      <td>Electronics</td>\n",
       "      <td>Personal Appliances</td>\n",
       "    </tr>\n",
       "    <tr>\n",
       "      <th>6</th>\n",
       "      <td>45649838090</td>\n",
       "      <td>273667</td>\n",
       "      <td>22-02-2014</td>\n",
       "      <td>11</td>\n",
       "      <td>6</td>\n",
       "      <td>-1</td>\n",
       "      <td>-1450</td>\n",
       "      <td>152.250</td>\n",
       "      <td>-1602.250</td>\n",
       "      <td>e-Shop</td>\n",
       "      <td>29-05-1981</td>\n",
       "      <td>M</td>\n",
       "      <td>9.0</td>\n",
       "      <td>Home and kitchen</td>\n",
       "      <td>Bath</td>\n",
       "    </tr>\n",
       "    <tr>\n",
       "      <th>7</th>\n",
       "      <td>22643667930</td>\n",
       "      <td>271489</td>\n",
       "      <td>22-02-2014</td>\n",
       "      <td>12</td>\n",
       "      <td>6</td>\n",
       "      <td>-1</td>\n",
       "      <td>-1225</td>\n",
       "      <td>128.625</td>\n",
       "      <td>-1353.625</td>\n",
       "      <td>TeleShop</td>\n",
       "      <td>21-04-1971</td>\n",
       "      <td>M</td>\n",
       "      <td>9.0</td>\n",
       "      <td>Home and kitchen</td>\n",
       "      <td>Tools</td>\n",
       "    </tr>\n",
       "    <tr>\n",
       "      <th>8</th>\n",
       "      <td>79792372943</td>\n",
       "      <td>275108</td>\n",
       "      <td>22-02-2014</td>\n",
       "      <td>3</td>\n",
       "      <td>1</td>\n",
       "      <td>-3</td>\n",
       "      <td>-908</td>\n",
       "      <td>286.020</td>\n",
       "      <td>-3010.020</td>\n",
       "      <td>MBR</td>\n",
       "      <td>04-11-1971</td>\n",
       "      <td>F</td>\n",
       "      <td>8.0</td>\n",
       "      <td>Clothing</td>\n",
       "      <td>Kids</td>\n",
       "    </tr>\n",
       "    <tr>\n",
       "      <th>9</th>\n",
       "      <td>50076728598</td>\n",
       "      <td>269014</td>\n",
       "      <td>21-02-2014</td>\n",
       "      <td>8</td>\n",
       "      <td>3</td>\n",
       "      <td>-4</td>\n",
       "      <td>-581</td>\n",
       "      <td>244.020</td>\n",
       "      <td>-2568.020</td>\n",
       "      <td>e-Shop</td>\n",
       "      <td>27-11-1979</td>\n",
       "      <td>F</td>\n",
       "      <td>3.0</td>\n",
       "      <td>Electronics</td>\n",
       "      <td>Personal Appliances</td>\n",
       "    </tr>\n",
       "  </tbody>\n",
       "</table>\n",
       "</div>"
      ],
      "text/plain": [
       "   transaction_id  cust_id   tran_date  prod_subcat_code  prod_cat_code  Qty  \\\n",
       "0     80712190438   270351  28-02-2014                 1              1   -5   \n",
       "1     29258453508   270384  27-02-2014                 5              3   -5   \n",
       "2     51750724947   273420  24-02-2014                 6              5   -2   \n",
       "3     93274880719   271509  24-02-2014                11              6   -3   \n",
       "4     51750724947   273420  23-02-2014                 6              5   -2   \n",
       "5     97439039119   272357  23-02-2014                 8              3   -2   \n",
       "6     45649838090   273667  22-02-2014                11              6   -1   \n",
       "7     22643667930   271489  22-02-2014                12              6   -1   \n",
       "8     79792372943   275108  22-02-2014                 3              1   -3   \n",
       "9     50076728598   269014  21-02-2014                 8              3   -4   \n",
       "\n",
       "   Rate      Tax  total_amt Store_type         DOB Gender  city_code  \\\n",
       "0  -772  405.300  -4265.300     e-Shop  26-09-1981      M        5.0   \n",
       "1 -1497  785.925  -8270.925     e-Shop  11-05-1973      F        8.0   \n",
       "2  -791  166.110  -1748.110   TeleShop  27-07-1992      M        8.0   \n",
       "3 -1363  429.345  -4518.345     e-Shop  08-06-1981      M        3.0   \n",
       "4  -791  166.110  -1748.110   TeleShop  27-07-1992      M        8.0   \n",
       "5  -824  173.040  -1821.040   TeleShop  09-10-1982      F        6.0   \n",
       "6 -1450  152.250  -1602.250     e-Shop  29-05-1981      M        9.0   \n",
       "7 -1225  128.625  -1353.625   TeleShop  21-04-1971      M        9.0   \n",
       "8  -908  286.020  -3010.020        MBR  04-11-1971      F        8.0   \n",
       "9  -581  244.020  -2568.020     e-Shop  27-11-1979      F        3.0   \n",
       "\n",
       "           prod_cat          prod_subcat  \n",
       "0          Clothing                Women  \n",
       "1       Electronics            Computers  \n",
       "2             Books                  DIY  \n",
       "3  Home and kitchen                 Bath  \n",
       "4             Books                  DIY  \n",
       "5       Electronics  Personal Appliances  \n",
       "6  Home and kitchen                 Bath  \n",
       "7  Home and kitchen                Tools  \n",
       "8          Clothing                 Kids  \n",
       "9       Electronics  Personal Appliances  "
      ]
     },
     "execution_count": 26,
     "metadata": {},
     "output_type": "execute_result"
    }
   ],
   "source": [
    "print(\"Top 10 Observations:\")\n",
    "customer_final.head(10)"
   ]
  },
  {
   "cell_type": "markdown",
   "id": "d7a391cd-21fe-4503-9344-5fa2c851192e",
   "metadata": {},
   "source": [
    "#### Bottom 10 observations"
   ]
  },
  {
   "cell_type": "code",
   "execution_count": 27,
   "id": "0ad09d11-eb12-4cc3-9075-b60c3641b08f",
   "metadata": {},
   "outputs": [
    {
     "name": "stdout",
     "output_type": "stream",
     "text": [
      "Bottom 10 Observations:\n"
     ]
    },
    {
     "data": {
      "text/html": [
       "<div>\n",
       "<style scoped>\n",
       "    .dataframe tbody tr th:only-of-type {\n",
       "        vertical-align: middle;\n",
       "    }\n",
       "\n",
       "    .dataframe tbody tr th {\n",
       "        vertical-align: top;\n",
       "    }\n",
       "\n",
       "    .dataframe thead th {\n",
       "        text-align: right;\n",
       "    }\n",
       "</style>\n",
       "<table border=\"1\" class=\"dataframe\">\n",
       "  <thead>\n",
       "    <tr style=\"text-align: right;\">\n",
       "      <th></th>\n",
       "      <th>transaction_id</th>\n",
       "      <th>cust_id</th>\n",
       "      <th>tran_date</th>\n",
       "      <th>prod_subcat_code</th>\n",
       "      <th>prod_cat_code</th>\n",
       "      <th>Qty</th>\n",
       "      <th>Rate</th>\n",
       "      <th>Tax</th>\n",
       "      <th>total_amt</th>\n",
       "      <th>Store_type</th>\n",
       "      <th>DOB</th>\n",
       "      <th>Gender</th>\n",
       "      <th>city_code</th>\n",
       "      <th>prod_cat</th>\n",
       "      <th>prod_subcat</th>\n",
       "    </tr>\n",
       "  </thead>\n",
       "  <tbody>\n",
       "    <tr>\n",
       "      <th>23043</th>\n",
       "      <td>49882891062</td>\n",
       "      <td>271982</td>\n",
       "      <td>25-01-2011</td>\n",
       "      <td>10</td>\n",
       "      <td>5</td>\n",
       "      <td>4</td>\n",
       "      <td>1330</td>\n",
       "      <td>558.600</td>\n",
       "      <td>5878.600</td>\n",
       "      <td>e-Shop</td>\n",
       "      <td>10-08-1976</td>\n",
       "      <td>M</td>\n",
       "      <td>8.0</td>\n",
       "      <td>Books</td>\n",
       "      <td>Non-Fiction</td>\n",
       "    </tr>\n",
       "    <tr>\n",
       "      <th>23044</th>\n",
       "      <td>14787475597</td>\n",
       "      <td>273982</td>\n",
       "      <td>25-01-2011</td>\n",
       "      <td>4</td>\n",
       "      <td>3</td>\n",
       "      <td>5</td>\n",
       "      <td>969</td>\n",
       "      <td>508.725</td>\n",
       "      <td>5353.725</td>\n",
       "      <td>e-Shop</td>\n",
       "      <td>12-10-1991</td>\n",
       "      <td>M</td>\n",
       "      <td>4.0</td>\n",
       "      <td>Electronics</td>\n",
       "      <td>Mobiles</td>\n",
       "    </tr>\n",
       "    <tr>\n",
       "      <th>23045</th>\n",
       "      <td>50691119572</td>\n",
       "      <td>273031</td>\n",
       "      <td>25-01-2011</td>\n",
       "      <td>6</td>\n",
       "      <td>5</td>\n",
       "      <td>1</td>\n",
       "      <td>1148</td>\n",
       "      <td>120.540</td>\n",
       "      <td>1268.540</td>\n",
       "      <td>TeleShop</td>\n",
       "      <td>17-01-1980</td>\n",
       "      <td>F</td>\n",
       "      <td>8.0</td>\n",
       "      <td>Books</td>\n",
       "      <td>DIY</td>\n",
       "    </tr>\n",
       "    <tr>\n",
       "      <th>23046</th>\n",
       "      <td>40893803228</td>\n",
       "      <td>272049</td>\n",
       "      <td>25-01-2011</td>\n",
       "      <td>11</td>\n",
       "      <td>6</td>\n",
       "      <td>3</td>\n",
       "      <td>1077</td>\n",
       "      <td>339.255</td>\n",
       "      <td>3570.255</td>\n",
       "      <td>e-Shop</td>\n",
       "      <td>28-06-1975</td>\n",
       "      <td>F</td>\n",
       "      <td>6.0</td>\n",
       "      <td>Home and kitchen</td>\n",
       "      <td>Bath</td>\n",
       "    </tr>\n",
       "    <tr>\n",
       "      <th>23047</th>\n",
       "      <td>30856003613</td>\n",
       "      <td>266866</td>\n",
       "      <td>25-01-2011</td>\n",
       "      <td>4</td>\n",
       "      <td>2</td>\n",
       "      <td>2</td>\n",
       "      <td>444</td>\n",
       "      <td>93.240</td>\n",
       "      <td>981.240</td>\n",
       "      <td>TeleShop</td>\n",
       "      <td>18-04-1974</td>\n",
       "      <td>M</td>\n",
       "      <td>4.0</td>\n",
       "      <td>Footwear</td>\n",
       "      <td>Kids</td>\n",
       "    </tr>\n",
       "    <tr>\n",
       "      <th>23048</th>\n",
       "      <td>94340757522</td>\n",
       "      <td>274550</td>\n",
       "      <td>25-01-2011</td>\n",
       "      <td>12</td>\n",
       "      <td>5</td>\n",
       "      <td>1</td>\n",
       "      <td>1264</td>\n",
       "      <td>132.720</td>\n",
       "      <td>1396.720</td>\n",
       "      <td>e-Shop</td>\n",
       "      <td>21-02-1972</td>\n",
       "      <td>M</td>\n",
       "      <td>7.0</td>\n",
       "      <td>Books</td>\n",
       "      <td>Academic</td>\n",
       "    </tr>\n",
       "    <tr>\n",
       "      <th>23049</th>\n",
       "      <td>89780862956</td>\n",
       "      <td>270022</td>\n",
       "      <td>25-01-2011</td>\n",
       "      <td>4</td>\n",
       "      <td>1</td>\n",
       "      <td>1</td>\n",
       "      <td>677</td>\n",
       "      <td>71.085</td>\n",
       "      <td>748.085</td>\n",
       "      <td>e-Shop</td>\n",
       "      <td>27-04-1984</td>\n",
       "      <td>M</td>\n",
       "      <td>9.0</td>\n",
       "      <td>Clothing</td>\n",
       "      <td>Mens</td>\n",
       "    </tr>\n",
       "    <tr>\n",
       "      <th>23050</th>\n",
       "      <td>85115299378</td>\n",
       "      <td>271020</td>\n",
       "      <td>25-01-2011</td>\n",
       "      <td>2</td>\n",
       "      <td>6</td>\n",
       "      <td>4</td>\n",
       "      <td>1052</td>\n",
       "      <td>441.840</td>\n",
       "      <td>4649.840</td>\n",
       "      <td>MBR</td>\n",
       "      <td>20-06-1976</td>\n",
       "      <td>M</td>\n",
       "      <td>8.0</td>\n",
       "      <td>Home and kitchen</td>\n",
       "      <td>Furnishing</td>\n",
       "    </tr>\n",
       "    <tr>\n",
       "      <th>23051</th>\n",
       "      <td>72870271171</td>\n",
       "      <td>270911</td>\n",
       "      <td>25-01-2011</td>\n",
       "      <td>11</td>\n",
       "      <td>5</td>\n",
       "      <td>3</td>\n",
       "      <td>1142</td>\n",
       "      <td>359.730</td>\n",
       "      <td>3785.730</td>\n",
       "      <td>TeleShop</td>\n",
       "      <td>22-05-1970</td>\n",
       "      <td>M</td>\n",
       "      <td>2.0</td>\n",
       "      <td>Books</td>\n",
       "      <td>Children</td>\n",
       "    </tr>\n",
       "    <tr>\n",
       "      <th>23052</th>\n",
       "      <td>77960931771</td>\n",
       "      <td>271961</td>\n",
       "      <td>25-01-2011</td>\n",
       "      <td>11</td>\n",
       "      <td>5</td>\n",
       "      <td>1</td>\n",
       "      <td>447</td>\n",
       "      <td>46.935</td>\n",
       "      <td>493.935</td>\n",
       "      <td>TeleShop</td>\n",
       "      <td>15-01-1982</td>\n",
       "      <td>M</td>\n",
       "      <td>1.0</td>\n",
       "      <td>Books</td>\n",
       "      <td>Children</td>\n",
       "    </tr>\n",
       "  </tbody>\n",
       "</table>\n",
       "</div>"
      ],
      "text/plain": [
       "       transaction_id  cust_id   tran_date  prod_subcat_code  prod_cat_code  \\\n",
       "23043     49882891062   271982  25-01-2011                10              5   \n",
       "23044     14787475597   273982  25-01-2011                 4              3   \n",
       "23045     50691119572   273031  25-01-2011                 6              5   \n",
       "23046     40893803228   272049  25-01-2011                11              6   \n",
       "23047     30856003613   266866  25-01-2011                 4              2   \n",
       "23048     94340757522   274550  25-01-2011                12              5   \n",
       "23049     89780862956   270022  25-01-2011                 4              1   \n",
       "23050     85115299378   271020  25-01-2011                 2              6   \n",
       "23051     72870271171   270911  25-01-2011                11              5   \n",
       "23052     77960931771   271961  25-01-2011                11              5   \n",
       "\n",
       "       Qty  Rate      Tax  total_amt Store_type         DOB Gender  city_code  \\\n",
       "23043    4  1330  558.600   5878.600     e-Shop  10-08-1976      M        8.0   \n",
       "23044    5   969  508.725   5353.725     e-Shop  12-10-1991      M        4.0   \n",
       "23045    1  1148  120.540   1268.540   TeleShop  17-01-1980      F        8.0   \n",
       "23046    3  1077  339.255   3570.255     e-Shop  28-06-1975      F        6.0   \n",
       "23047    2   444   93.240    981.240   TeleShop  18-04-1974      M        4.0   \n",
       "23048    1  1264  132.720   1396.720     e-Shop  21-02-1972      M        7.0   \n",
       "23049    1   677   71.085    748.085     e-Shop  27-04-1984      M        9.0   \n",
       "23050    4  1052  441.840   4649.840        MBR  20-06-1976      M        8.0   \n",
       "23051    3  1142  359.730   3785.730   TeleShop  22-05-1970      M        2.0   \n",
       "23052    1   447   46.935    493.935   TeleShop  15-01-1982      M        1.0   \n",
       "\n",
       "               prod_cat  prod_subcat  \n",
       "23043             Books  Non-Fiction  \n",
       "23044       Electronics      Mobiles  \n",
       "23045             Books          DIY  \n",
       "23046  Home and kitchen         Bath  \n",
       "23047          Footwear         Kids  \n",
       "23048             Books     Academic  \n",
       "23049          Clothing         Mens  \n",
       "23050  Home and kitchen   Furnishing  \n",
       "23051             Books     Children  \n",
       "23052             Books     Children  "
      ]
     },
     "execution_count": 27,
     "metadata": {},
     "output_type": "execute_result"
    }
   ],
   "source": [
    "print(\"Bottom 10 Observations:\")\n",
    "customer_final.tail(10)"
   ]
  },
  {
   "cell_type": "markdown",
   "id": "57a90f14-42e4-494b-a477-ac1fa9cbeb35",
   "metadata": {},
   "source": [
    "#### c. \"Five-number summary\" for continuous variables"
   ]
  },
  {
   "cell_type": "code",
   "execution_count": 75,
   "id": "5f65d0ec-f1f8-4223-9583-6d297d50c337",
   "metadata": {},
   "outputs": [
    {
     "name": "stdout",
     "output_type": "stream",
     "text": [
      "Five-Number Summary:\n"
     ]
    },
    {
     "data": {
      "text/html": [
       "<div>\n",
       "<style scoped>\n",
       "    .dataframe tbody tr th:only-of-type {\n",
       "        vertical-align: middle;\n",
       "    }\n",
       "\n",
       "    .dataframe tbody tr th {\n",
       "        vertical-align: top;\n",
       "    }\n",
       "\n",
       "    .dataframe thead th {\n",
       "        text-align: right;\n",
       "    }\n",
       "</style>\n",
       "<table border=\"1\" class=\"dataframe\">\n",
       "  <thead>\n",
       "    <tr style=\"text-align: right;\">\n",
       "      <th></th>\n",
       "      <th>transaction_id</th>\n",
       "      <th>cust_id</th>\n",
       "      <th>prod_subcat_code</th>\n",
       "      <th>prod_cat_code</th>\n",
       "      <th>Qty</th>\n",
       "      <th>Rate</th>\n",
       "      <th>Tax</th>\n",
       "      <th>total_amt</th>\n",
       "      <th>city_code</th>\n",
       "    </tr>\n",
       "  </thead>\n",
       "  <tbody>\n",
       "    <tr>\n",
       "      <th>min</th>\n",
       "      <td>3.268991e+06</td>\n",
       "      <td>266783.0</td>\n",
       "      <td>1.0</td>\n",
       "      <td>1.0</td>\n",
       "      <td>-5.0</td>\n",
       "      <td>-1499.0</td>\n",
       "      <td>7.350</td>\n",
       "      <td>-8270.925</td>\n",
       "      <td>1.0</td>\n",
       "    </tr>\n",
       "    <tr>\n",
       "      <th>25%</th>\n",
       "      <td>2.493864e+10</td>\n",
       "      <td>268935.0</td>\n",
       "      <td>3.0</td>\n",
       "      <td>2.0</td>\n",
       "      <td>1.0</td>\n",
       "      <td>312.0</td>\n",
       "      <td>98.280</td>\n",
       "      <td>762.450</td>\n",
       "      <td>3.0</td>\n",
       "    </tr>\n",
       "    <tr>\n",
       "      <th>50%</th>\n",
       "      <td>5.009313e+10</td>\n",
       "      <td>270980.0</td>\n",
       "      <td>5.0</td>\n",
       "      <td>4.0</td>\n",
       "      <td>3.0</td>\n",
       "      <td>710.0</td>\n",
       "      <td>199.080</td>\n",
       "      <td>1754.740</td>\n",
       "      <td>5.0</td>\n",
       "    </tr>\n",
       "    <tr>\n",
       "      <th>75%</th>\n",
       "      <td>7.533000e+10</td>\n",
       "      <td>273114.0</td>\n",
       "      <td>10.0</td>\n",
       "      <td>5.0</td>\n",
       "      <td>4.0</td>\n",
       "      <td>1109.0</td>\n",
       "      <td>365.715</td>\n",
       "      <td>3569.150</td>\n",
       "      <td>8.0</td>\n",
       "    </tr>\n",
       "    <tr>\n",
       "      <th>max</th>\n",
       "      <td>9.998755e+10</td>\n",
       "      <td>275265.0</td>\n",
       "      <td>12.0</td>\n",
       "      <td>6.0</td>\n",
       "      <td>5.0</td>\n",
       "      <td>1500.0</td>\n",
       "      <td>787.500</td>\n",
       "      <td>8287.500</td>\n",
       "      <td>10.0</td>\n",
       "    </tr>\n",
       "  </tbody>\n",
       "</table>\n",
       "</div>"
      ],
      "text/plain": [
       "     transaction_id   cust_id  prod_subcat_code  prod_cat_code  Qty    Rate  \\\n",
       "min    3.268991e+06  266783.0               1.0            1.0 -5.0 -1499.0   \n",
       "25%    2.493864e+10  268935.0               3.0            2.0  1.0   312.0   \n",
       "50%    5.009313e+10  270980.0               5.0            4.0  3.0   710.0   \n",
       "75%    7.533000e+10  273114.0              10.0            5.0  4.0  1109.0   \n",
       "max    9.998755e+10  275265.0              12.0            6.0  5.0  1500.0   \n",
       "\n",
       "         Tax  total_amt  city_code  \n",
       "min    7.350  -8270.925        1.0  \n",
       "25%   98.280    762.450        3.0  \n",
       "50%  199.080   1754.740        5.0  \n",
       "75%  365.715   3569.150        8.0  \n",
       "max  787.500   8287.500       10.0  "
      ]
     },
     "execution_count": 75,
     "metadata": {},
     "output_type": "execute_result"
    }
   ],
   "source": [
    "print(\"Five-Number Summary:\")\n",
    "customer_final.describe().loc['min':,:]"
   ]
  },
  {
   "cell_type": "markdown",
   "id": "c9f33b81-58b7-4eb9-bb55-8a10bd0a8f1e",
   "metadata": {},
   "source": [
    "#### d. Frequency tables for all categorical variables"
   ]
  },
  {
   "cell_type": "code",
   "execution_count": 77,
   "id": "65db72e8-27e6-40e4-8fd9-78575824cb67",
   "metadata": {
    "scrolled": true
   },
   "outputs": [
    {
     "name": "stdout",
     "output_type": "stream",
     "text": [
      "\n",
      "Frequency Tables for Categorical Variables:\n",
      "\n",
      "Frequency table for tran_date:\n",
      "tran_date\n",
      "13-07-2011    35\n",
      "21-12-2013    33\n",
      "22-11-2011    33\n",
      "23-10-2011    33\n",
      "25-09-2011    33\n",
      "              ..\n",
      "23-02-2014     2\n",
      "24-02-2014     2\n",
      "21-02-2014     1\n",
      "27-02-2014     1\n",
      "28-02-2014     1\n",
      "Name: count, Length: 1129, dtype: int64\n",
      "\n",
      "Frequency table for Store_type:\n",
      "Store_type\n",
      "e-Shop            9311\n",
      "MBR               4661\n",
      "Flagship store    4577\n",
      "TeleShop          4504\n",
      "Name: count, dtype: int64\n",
      "\n",
      "Frequency table for DOB:\n",
      "DOB\n",
      "27-12-1988    32\n",
      "17-09-1982    32\n",
      "25-02-1974    27\n",
      "20-03-1972    25\n",
      "18-11-1991    24\n",
      "              ..\n",
      "18-09-1987     1\n",
      "21-07-1984     1\n",
      "04-01-1991     1\n",
      "09-11-1971     1\n",
      "10-06-1972     1\n",
      "Name: count, Length: 3987, dtype: int64\n",
      "\n",
      "Frequency table for Gender:\n",
      "Gender\n",
      "M    11811\n",
      "F    11233\n",
      "Name: count, dtype: int64\n",
      "\n",
      "Frequency table for prod_cat:\n",
      "prod_cat\n",
      "Books               6069\n",
      "Electronics         4898\n",
      "Home and kitchen    4129\n",
      "Footwear            2999\n",
      "Clothing            2960\n",
      "Bags                1998\n",
      "Name: count, dtype: int64\n",
      "\n",
      "Frequency table for prod_subcat:\n",
      "prod_subcat\n",
      "Women                  3048\n",
      "Mens                   2912\n",
      "Kids                   1997\n",
      "Tools                  1062\n",
      "Fiction                1043\n",
      "Kitchen                1037\n",
      "Children               1035\n",
      "Mobiles                1031\n",
      "Comics                 1031\n",
      "Bath                   1023\n",
      "Furnishing             1007\n",
      "Non-Fiction            1004\n",
      "DIY                     989\n",
      "Cameras                 985\n",
      "Personal Appliances     972\n",
      "Academic                967\n",
      "Computers               958\n",
      "Audio and video         952\n",
      "Name: count, dtype: int64\n"
     ]
    }
   ],
   "source": [
    "categorical_columns = customer_final.select_dtypes(include=['object', 'category']).columns\n",
    "print(\"\\nFrequency Tables for Categorical Variables:\")\n",
    "for col in categorical_columns:\n",
    "    print(f\"\\nFrequency table for {col}:\")\n",
    "    print(customer_final[col].value_counts())"
   ]
  },
  {
   "cell_type": "raw",
   "id": "0be1e89b-245f-4fce-b5d5-b1bb8c1912b7",
   "metadata": {},
   "source": [
    "Q3) Calculate the following information using the merged dataset :\n",
    " a. Time period of the available transaction data\n",
    " b. Count of transactions where the total amount of transaction was negative"
   ]
  },
  {
   "cell_type": "markdown",
   "id": "803daf24-4a67-4cfe-a092-abf2e34489d7",
   "metadata": {},
   "source": [
    "#### a. Time period of the available transaction data"
   ]
  },
  {
   "cell_type": "code",
   "execution_count": 46,
   "id": "752c236a-0dfc-4b4e-a776-17ad879b7437",
   "metadata": {},
   "outputs": [
    {
     "data": {
      "text/plain": [
       "Index(['transaction_id', 'cust_id', 'tran_date', 'prod_subcat_code',\n",
       "       'prod_cat_code', 'Qty', 'Rate', 'Tax', 'total_amt', 'Store_type'],\n",
       "      dtype='object')"
      ]
     },
     "execution_count": 46,
     "metadata": {},
     "output_type": "execute_result"
    }
   ],
   "source": [
    "transactions.columns"
   ]
  },
  {
   "cell_type": "code",
   "execution_count": 86,
   "id": "31577fb0-1bd4-44b1-9b30-4c31c2cdc3c4",
   "metadata": {},
   "outputs": [
    {
     "name": "stdout",
     "output_type": "stream",
     "text": [
      "Time period of available transaction data: 1107 days 00:00:00\n"
     ]
    }
   ],
   "source": [
    "transactions['tran_date'] = pd.to_datetime(transactions['tran_date'], format='%m/%d/%Y')\n",
    "min_date = transactions['tran_date'].min()\n",
    "max_date = transactions['tran_date'].max()\n",
    "\n",
    "print('Time period of available transaction data:',max_date - min_date)"
   ]
  },
  {
   "cell_type": "markdown",
   "id": "c55f6e9f-d6dc-4d31-acf0-fa783bbb6799",
   "metadata": {},
   "source": [
    "#### b. Count of transactions where the total amount of transaction was negative"
   ]
  },
  {
   "cell_type": "code",
   "execution_count": 88,
   "id": "0eb23524-26d1-4590-8c40-bc91f8cd42f1",
   "metadata": {},
   "outputs": [
    {
     "name": "stdout",
     "output_type": "stream",
     "text": [
      "Number of transactions with negative total amount: 2177\n"
     ]
    }
   ],
   "source": [
    "negative_transactions_count = transactions[transactions['total_amt'] < 0].shape[0]\n",
    "print('Number of transactions with negative total amount:' ,negative_transactions_count)"
   ]
  },
  {
   "cell_type": "raw",
   "id": "abfcddd5-8158-42c2-9eb0-163cfc8f201d",
   "metadata": {},
   "source": [
    "Q4) Analyze which product categories are more popular among females vs male customers"
   ]
  },
  {
   "cell_type": "code",
   "execution_count": 96,
   "id": "691bbb8b-5030-4005-930a-1d2100818155",
   "metadata": {},
   "outputs": [
    {
     "data": {
      "text/plain": [
       "Index(['transaction_id', 'cust_id', 'tran_date', 'prod_subcat_code',\n",
       "       'prod_cat_code', 'Qty', 'Rate', 'Tax', 'total_amt', 'Store_type', 'DOB',\n",
       "       'Gender', 'city_code', 'prod_cat', 'prod_subcat'],\n",
       "      dtype='object')"
      ]
     },
     "execution_count": 96,
     "metadata": {},
     "output_type": "execute_result"
    }
   ],
   "source": [
    "customer_final.columns"
   ]
  },
  {
   "cell_type": "code",
   "execution_count": 99,
   "id": "52b9a0bb-f864-4259-87d8-7d6cfebf2e92",
   "metadata": {
    "scrolled": true
   },
   "outputs": [
    {
     "data": {
      "text/html": [
       "<div>\n",
       "<style scoped>\n",
       "    .dataframe tbody tr th:only-of-type {\n",
       "        vertical-align: middle;\n",
       "    }\n",
       "\n",
       "    .dataframe tbody tr th {\n",
       "        vertical-align: top;\n",
       "    }\n",
       "\n",
       "    .dataframe thead th {\n",
       "        text-align: right;\n",
       "    }\n",
       "</style>\n",
       "<table border=\"1\" class=\"dataframe\">\n",
       "  <thead>\n",
       "    <tr style=\"text-align: right;\">\n",
       "      <th>Gender</th>\n",
       "      <th>F</th>\n",
       "      <th>M</th>\n",
       "    </tr>\n",
       "    <tr>\n",
       "      <th>prod_cat</th>\n",
       "      <th></th>\n",
       "      <th></th>\n",
       "    </tr>\n",
       "  </thead>\n",
       "  <tbody>\n",
       "    <tr>\n",
       "      <th>Bags</th>\n",
       "      <td>890</td>\n",
       "      <td>899</td>\n",
       "    </tr>\n",
       "    <tr>\n",
       "      <th>Books</th>\n",
       "      <td>2657</td>\n",
       "      <td>2825</td>\n",
       "    </tr>\n",
       "    <tr>\n",
       "      <th>Clothing</th>\n",
       "      <td>1286</td>\n",
       "      <td>1388</td>\n",
       "    </tr>\n",
       "    <tr>\n",
       "      <th>Electronics</th>\n",
       "      <td>2135</td>\n",
       "      <td>2351</td>\n",
       "    </tr>\n",
       "    <tr>\n",
       "      <th>Footwear</th>\n",
       "      <td>1380</td>\n",
       "      <td>1327</td>\n",
       "    </tr>\n",
       "    <tr>\n",
       "      <th>Home and kitchen</th>\n",
       "      <td>1810</td>\n",
       "      <td>1922</td>\n",
       "    </tr>\n",
       "  </tbody>\n",
       "</table>\n",
       "</div>"
      ],
      "text/plain": [
       "Gender               F     M\n",
       "prod_cat                    \n",
       "Bags               890   899\n",
       "Books             2657  2825\n",
       "Clothing          1286  1388\n",
       "Electronics       2135  2351\n",
       "Footwear          1380  1327\n",
       "Home and kitchen  1810  1922"
      ]
     },
     "execution_count": 99,
     "metadata": {},
     "output_type": "execute_result"
    }
   ],
   "source": [
    "gender_category_counts = customer_final.drop_duplicates(subset=['transaction_id'])\n",
    "pd.pivot_table(data=gender_category_counts ,index='prod_cat',columns='Gender',values='transaction_id',aggfunc='count')"
   ]
  },
  {
   "cell_type": "raw",
   "id": "ffa3a133-323c-453b-9b69-2fd4a45f560a",
   "metadata": {},
   "source": [
    "Q5) Which City code has the maximum customers and what was the percentage of customers from \n",
    "that city?"
   ]
  },
  {
   "cell_type": "code",
   "execution_count": 82,
   "id": "939b09fe-88e0-4bf1-ab2c-7d5d7663424e",
   "metadata": {},
   "outputs": [
    {
     "name": "stdout",
     "output_type": "stream",
     "text": [
      "City code with maximum customers: 3.0\n",
      "Percentage of customers from that city: 10.54030115146147 %\n"
     ]
    }
   ],
   "source": [
    "\n",
    "city_counts = customers['city_code'].value_counts()\n",
    "max_city = city_counts.idxmax()\n",
    "max_city_percentage = (city_counts.max() / city_counts.sum()) * 100\n",
    "print('City code with maximum customers:' ,max_city)\n",
    "print('Percentage of customers from that city:' ,max_city_percentage,'%')"
   ]
  },
  {
   "cell_type": "raw",
   "id": "316b9fd5-d22d-4251-953d-c899907a2cdf",
   "metadata": {},
   "source": [
    "Q6) Which store type sells the maximum products by value and by quantity?"
   ]
  },
  {
   "cell_type": "code",
   "execution_count": 16,
   "id": "3c05595b-0619-4bac-96b0-0392564154e3",
   "metadata": {},
   "outputs": [
    {
     "data": {
      "text/plain": [
       "Store_type         e-Shop\n",
       "total_amt     19824816.05\n",
       "Qty                 22763\n",
       "Name: 3, dtype: object"
      ]
     },
     "execution_count": 16,
     "metadata": {},
     "output_type": "execute_result"
    }
   ],
   "source": [
    "df= customer_final[['Store_type','total_amt','Qty']].groupby(by='Store_type').sum()\n",
    "df=df.reset_index()\n",
    "df=df.sort_values(by=['total_amt','Qty'],ascending=False).iloc[0]\n",
    "df"
   ]
  },
  {
   "cell_type": "raw",
   "id": "bf8f3c4e-32dd-4af5-b721-99812f65c185",
   "metadata": {},
   "source": [
    "Q7) What was the total amount earned from the \"Electronics\" and \"Clothing\" categories from \n",
    "Flagship Stores?"
   ]
  },
  {
   "cell_type": "code",
   "execution_count": 70,
   "id": "c4ad6c83-0200-4ccb-87fd-dc5a5e0340d0",
   "metadata": {},
   "outputs": [
    {
     "name": "stdout",
     "output_type": "stream",
     "text": [
      "Total amount earned from Electronics and Clothing categories from Flagship Stores: 3409559.27\n"
     ]
    }
   ],
   "source": [
    "electronics_clothing_flagship = customer_final[(customer_final['prod_cat'].isin(['Electronics', 'Clothing'])) & \n",
    "                                          (customer_final['Store_type'] == 'Flagship store')]['total_amt'].sum()\n",
    "print('Total amount earned from Electronics and Clothing categories from Flagship Stores:', electronics_clothing_flagship)"
   ]
  },
  {
   "cell_type": "raw",
   "id": "f937bff5-71e9-416a-a511-143dd79d053e",
   "metadata": {},
   "source": [
    "Q8) What was the total amount earned from \"Male\" customers under the \"Electronics\" category?"
   ]
  },
  {
   "cell_type": "code",
   "execution_count": 68,
   "id": "f5dd4094-b21c-4fcd-be2e-39705ce30a93",
   "metadata": {},
   "outputs": [
    {
     "name": "stdout",
     "output_type": "stream",
     "text": [
      "Total amount earned from Male customers under Electronics category: 5703109.424999999\n"
     ]
    }
   ],
   "source": [
    "male_electronics_sales = customer_final[(customer_final['Gender'] == 'M') & (customer_final['prod_cat'] == 'Electronics')]['total_amt'].sum()\n",
    "print('Total amount earned from Male customers under Electronics category:', male_electronics_sales)"
   ]
  },
  {
   "cell_type": "raw",
   "id": "8fa514b2-1031-454d-b62d-c1279a70313d",
   "metadata": {},
   "source": [
    "Q9) How many customers have more than 10 unique transactions, after removing all transactions \n",
    "which have any negative amounts?"
   ]
  },
  {
   "cell_type": "code",
   "execution_count": 67,
   "id": "027430e2-553e-4fc4-83af-e8dfb31f0e0b",
   "metadata": {},
   "outputs": [
    {
     "name": "stdout",
     "output_type": "stream",
     "text": [
      "Number of customers with more than 10 unique transactions (after removing negative amounts): 6\n"
     ]
    }
   ],
   "source": [
    "valid_transactions = customer_final[customer_final['total_amt'] >= 0]\n",
    "customer_transaction_counts = valid_transactions.groupby('cust_id')['transaction_id'].nunique()\n",
    "customers_with_10_plus_transactions = customer_transaction_counts[customer_transaction_counts > 10].count()\n",
    "print('Number of customers with more than 10 unique transactions (after removing negative amounts):', customers_with_10_plus_transactions)"
   ]
  },
  {
   "cell_type": "raw",
   "id": "87e02b54-2e11-41e3-bbef-9c844b0f8209",
   "metadata": {},
   "source": [
    "Q10)  For all customers aged between 25 - 35, find out:\n",
    " a. What was the total amount spent for “Electronics” and “Books” product categories?\n",
    " b. What was the total amount spent by these customers between 1st Jan, 2014 to 1st Mar, 2014?"
   ]
  },
  {
   "cell_type": "code",
   "execution_count": 46,
   "id": "661e4772-1d10-4774-9eb7-41b21e4c3cda",
   "metadata": {},
   "outputs": [],
   "source": [
    "customer_final[\"DOB\"] = pd.to_datetime(customer_final[\"DOB\"])\n",
    "customer_final[\"Age\"] = (dt.datetime.now() - customer_final[\"DOB\"]).dt.days // 365.25\n",
    "df = customer_final[customer_final[\"Age\"].between(25, 35)]"
   ]
  },
  {
   "cell_type": "markdown",
   "id": "112e9db7-3304-4b8b-88bf-0811d2e252cb",
   "metadata": {},
   "source": [
    "####  a. What was the total amount spent for “Electronics” and “Books” product categories?"
   ]
  },
  {
   "cell_type": "code",
   "execution_count": 62,
   "id": "384d7f37-87e3-4719-a077-dd63d6be8596",
   "metadata": {},
   "outputs": [
    {
     "name": "stdout",
     "output_type": "stream",
     "text": [
      "Total amount spent on Electronics and Books: 3789450.535\n"
     ]
    }
   ],
   "source": [
    "total_amt_electronics_books = df[df[\"prod_cat\"].isin([\"Books\", \"Electronics\"])][\"total_amt\"].sum()\n",
    "print(\"Total amount spent on Electronics and Books:\", total_amt_electronics_books)"
   ]
  },
  {
   "cell_type": "markdown",
   "id": "d8ed88be-f21e-4e83-a4dd-ec3d111fa799",
   "metadata": {},
   "source": [
    "####  b. What was the total amount spent by these customers between 1st Jan, 2014 to 1st Mar, 2014?"
   ]
  },
  {
   "cell_type": "code",
   "execution_count": 65,
   "id": "34ff7ff6-2d39-4102-add7-b1346f2e62e9",
   "metadata": {},
   "outputs": [
    {
     "name": "stdout",
     "output_type": "stream",
     "text": [
      "Total amount spent between Jan 1,2014 and Mar 1,2014: 1202619.0150000001\n"
     ]
    }
   ],
   "source": [
    "customer_final[\"tran_date\"] = pd.to_datetime(customer_final[\"tran_date\"], errors=\"coerce\")\n",
    "\n",
    "total_amt_date_range = customer_final[\n",
    "    (customer_final[\"tran_date\"] >= \"2014-01-01\") & (customer_final[\"tran_date\"] <= \"2014-03-01\")\n",
    "][\"total_amt\"].sum()\n",
    "print(\"Total amount spent between Jan 1,2014 and Mar 1,2014:\", total_amt_date_range)"
   ]
  }
 ],
 "metadata": {
  "kernelspec": {
   "display_name": "Python 3 (ipykernel)",
   "language": "python",
   "name": "python3"
  },
  "language_info": {
   "codemirror_mode": {
    "name": "ipython",
    "version": 3
   },
   "file_extension": ".py",
   "mimetype": "text/x-python",
   "name": "python",
   "nbconvert_exporter": "python",
   "pygments_lexer": "ipython3",
   "version": "3.12.0"
  }
 },
 "nbformat": 4,
 "nbformat_minor": 5
}
